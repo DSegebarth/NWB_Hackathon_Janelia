{
 "cells": [
  {
   "cell_type": "markdown",
   "id": "6fcdad28-86b2-4dfc-a153-88d01f0f0f61",
   "metadata": {},
   "source": [
    "## Understanding how to create an NWB extensions"
   ]
  },
  {
   "cell_type": "markdown",
   "id": "8f414e9e-ee5a-46ba-8b2a-215136531b66",
   "metadata": {},
   "source": [
    "More informative than using the [\"extensions.ipynb\" tutorial](https://pynwb.readthedocs.io/en/stable/tutorials/general/extensions.html#sphx-glr-tutorials-general-extensions-py) is actually the much more comprehensive [documentation](https://nwb-overview.readthedocs.io/en/latest/extensions_tutorial/extensions_tutorial_home.html) in the overview documentation page."
   ]
  },
  {
   "cell_type": "code",
   "execution_count": null,
   "id": "5bf70aeb-9617-46ad-80bb-0f68e17a76a2",
   "metadata": {},
   "outputs": [],
   "source": []
  },
  {
   "cell_type": "code",
   "execution_count": null,
   "id": "caf39965-1445-4ea7-8950-19ec591843a4",
   "metadata": {},
   "outputs": [],
   "source": []
  },
  {
   "cell_type": "code",
   "execution_count": null,
   "id": "51113be3-92d3-4fc2-8539-ab1f9e8ad177",
   "metadata": {},
   "outputs": [],
   "source": []
  },
  {
   "cell_type": "markdown",
   "id": "b31cc69c-a448-439f-9e59-611c266206c1",
   "metadata": {},
   "source": [
    "## Understanding all elements that need to be specified in the extension & of what type they should be"
   ]
  },
  {
   "cell_type": "markdown",
   "id": "e2808a5b-2a9a-4182-93ed-c087deb171d6",
   "metadata": {},
   "source": [
    "### Questions:\n",
    "- How to specify which metadata are required and which are optional?\n",
    "- Recordings from DBS leads can be of different modalities, depending on the type of contact (e.g. ECoG, LFP, iEEG). Some are already covered in NWB (e.g. LFP), how can we make these a part of the DBS extension? I think it would be ideal to have them as sub-containers within the DBS-container and by using the existing specifications wherever possible\n",
    "- Adaptive DBS vs. constant: For adaptive it should be mandatory to provide a file (TimeSeries?) that clearly specifies/documents the stimulation at all timepoints. For constant DBS, a single \"On\" / \"Off\" is all that is needed. Can they still go together? Or should these be two different containers?"
   ]
  },
  {
   "cell_type": "markdown",
   "id": "f0b3cc41-1fba-455e-87eb-4e298cf956fa",
   "metadata": {},
   "source": [
    "## Metadata specific to the DBS-electrode"
   ]
  },
  {
   "cell_type": "markdown",
   "id": "ee7da9ef-675d-4e04-93e5-5772edd9f26f",
   "metadata": {},
   "source": [
    "Required metadata:\n",
    "- target (string): area that was targeted by DBS lead (note: \"target\" misleading in animal research? Here placement can actually be confirmed)\n",
    "- manufacturer (string): manufacturer of the DBS lead (e.g. Boston Scientific, Medtronic, ...)\n",
    "- contacts (integer): number of contacts per DBS lead\n",
    "- stimulation (boolean): Whether or not electrical stimulation was provided via the DBS-lead; if True: stimulation protocol needs to be specified!\n",
    "- stimulation paradigm (nested-dictionaries?): \n",
    "    - Metadata common for all DBS-leads:\n",
    "        - Stimulation target (string): like target, applicable for animal research?\n",
    "        - Stimulation mode (string): \"continous\" or \"time-varying\" (use a single boolean instead? continous stimulation --> if False it is time-varying?)\n",
    "        - Stimulation montage (string): \"monopolar\" or \"bipolar\"\n",
    "        - Stimulation paradigm description (string): free form text to describe stimulation paradigm better, for instance if time-varying \"beta adaptive DBS\".\n",
    "        - Stimulation in right hemisphere (boolean): whether stimulation was applied in right hemisphere\n",
    "        - Stimulation in left hemisphere (boolean): whether stimulation was applied in left hemisphere\n",
    "    - Specific metadata for both hemispheres, left & right:\n",
    "        - more specific details\n",
    "\n",
    "Optional metadata:\n",
    "- date of implantation (datetime): Date of implantation (YYYY-MM-DDThh:mm:ss)\n",
    "- description (string): Free form description of DBS lead"
   ]
  },
  {
   "cell_type": "markdown",
   "id": "93b49a5a-82d4-41fb-825d-3d5ad288f012",
   "metadata": {},
   "source": [
    "## Metadata relevant for the recorded data:\n",
    "\n",
    "### Generic for all modalities:\n",
    "\n",
    "- Manufacturer (string): Manufacturer of specific recording electrode / contact. In animal research, this will most likely be identical with the manufacturer of the DBS-lead, but might be worth adding to make it right away compatible also for human datasets? Same applies for model name & acquisition software version\n",
    "- Manufacturer model name (string): model name\n",
    "- Software version (string): Software version of aqcuisition software (again, makes probably only sense in the case of human datasets)\n",
    "- Sampling frequency (integer / float?): Sampling frequency in Hz\n",
    "- Power line frequency (integer): frequency in Hz of the power grid where the recording was performed\n",
    "\n",
    "\n",
    "### Modality specific metadata:\n",
    "\n",
    "#### 1) iEEG:\n",
    "- iEEG reference (string): description of the reference electrode scheme, e.g. where its location, type, ...\n",
    "- hardware filters (nested-dictionaries or None/empty dict?): key-value pairs that describe the filter settings applied by the acquisition hardware, for instance in BIDS spec. language:\n",
    "    - {'HighPass': {'HalfAmplitudeCutOffHz': 1, 'RollOff': '6dB/Octave'}}\n",
    "- software filters (nested-dictionaries or None/empty dict?): key-value pairs that describe the filter settings applied by the acquisition software (for example see hardware filters)\n",
    "\n",
    "    \n",
    "\n",
    "\n",
    "\n",
    "\n",
    "#### 2) ECoG:\n",
    "\n",
    "\n",
    "#### 3) LFP\n",
    "\n"
   ]
  },
  {
   "cell_type": "code",
   "execution_count": null,
   "id": "3ce319a6-0038-4f28-a79b-d90f5521c0ce",
   "metadata": {},
   "outputs": [],
   "source": []
  },
  {
   "cell_type": "code",
   "execution_count": null,
   "id": "3e0b2e13-fcf6-41ee-bf64-3d46c64f5032",
   "metadata": {},
   "outputs": [],
   "source": []
  },
  {
   "cell_type": "code",
   "execution_count": null,
   "id": "bd333d1a-c30a-426c-97d1-88d63fa9a072",
   "metadata": {},
   "outputs": [],
   "source": []
  }
 ],
 "metadata": {
  "kernelspec": {
   "display_name": "Python 3 (ipykernel)",
   "language": "python",
   "name": "python3"
  },
  "language_info": {
   "codemirror_mode": {
    "name": "ipython",
    "version": 3
   },
   "file_extension": ".py",
   "mimetype": "text/x-python",
   "name": "python",
   "nbconvert_exporter": "python",
   "pygments_lexer": "ipython3",
   "version": "3.7.10"
  }
 },
 "nbformat": 4,
 "nbformat_minor": 5
}
