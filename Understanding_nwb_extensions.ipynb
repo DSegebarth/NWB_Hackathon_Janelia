{
 "cells": [
  {
   "cell_type": "markdown",
   "id": "6fcdad28-86b2-4dfc-a153-88d01f0f0f61",
   "metadata": {},
   "source": [
    "## Understanding how to create an NWB extensions"
   ]
  },
  {
   "cell_type": "markdown",
   "id": "8f414e9e-ee5a-46ba-8b2a-215136531b66",
   "metadata": {},
   "source": [
    "More informative than using the [\"extensions.ipynb\" tutorial](https://pynwb.readthedocs.io/en/stable/tutorials/general/extensions.html#sphx-glr-tutorials-general-extensions-py) is actually the much more comprehensive [documentation](https://nwb-overview.readthedocs.io/en/latest/extensions_tutorial/extensions_tutorial_home.html) in the overview documentation page."
   ]
  },
  {
   "cell_type": "code",
   "execution_count": null,
   "id": "5bf70aeb-9617-46ad-80bb-0f68e17a76a2",
   "metadata": {},
   "outputs": [],
   "source": []
  },
  {
   "cell_type": "code",
   "execution_count": null,
   "id": "caf39965-1445-4ea7-8950-19ec591843a4",
   "metadata": {},
   "outputs": [],
   "source": []
  },
  {
   "cell_type": "code",
   "execution_count": null,
   "id": "51113be3-92d3-4fc2-8539-ab1f9e8ad177",
   "metadata": {},
   "outputs": [],
   "source": []
  },
  {
   "cell_type": "markdown",
   "id": "b31cc69c-a448-439f-9e59-611c266206c1",
   "metadata": {},
   "source": [
    "## Understanding all elements that need to be specified in the extension & of what type they should be"
   ]
  },
  {
   "cell_type": "markdown",
   "id": "e2808a5b-2a9a-4182-93ed-c087deb171d6",
   "metadata": {},
   "source": [
    "### Questions:\n",
    "- How to specify which metadata are required and which are optional?\n",
    "- Recordings from DBS leads can be of different modalities, depending on the type of contact (e.g. ECoG, LFP, iEEG). Some are already covered in NWB (e.g. LFP), how can we make these a part of the DBS extension? I think it would be ideal to have them as sub-containers within the DBS-container and by using the existing specifications wherever possible\n",
    "- Adaptive DBS vs. constant: For adaptive it should be mandatory to provide a file (TimeSeries?) that clearly specifies/documents the stimulation at all timepoints. For constant DBS, a single \"On\" / \"Off\" is all that is needed. Can they still go together? Or should these be two different containers?"
   ]
  },
  {
   "cell_type": "code",
   "execution_count": null,
   "id": "93960475-25c3-4d40-afc5-fcd466b951bc",
   "metadata": {},
   "outputs": [],
   "source": []
  }
 ],
 "metadata": {
  "kernelspec": {
   "display_name": "Python 3 (ipykernel)",
   "language": "python",
   "name": "python3"
  },
  "language_info": {
   "codemirror_mode": {
    "name": "ipython",
    "version": 3
   },
   "file_extension": ".py",
   "mimetype": "text/x-python",
   "name": "python",
   "nbconvert_exporter": "python",
   "pygments_lexer": "ipython3",
   "version": "3.7.10"
  }
 },
 "nbformat": 4,
 "nbformat_minor": 5
}
